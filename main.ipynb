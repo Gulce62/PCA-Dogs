{
 "cells": [
  {
   "cell_type": "code",
   "execution_count": 1,
   "metadata": {
    "collapsed": true
   },
   "outputs": [],
   "source": [
    "from PIL import Image\n",
    "import numpy as np\n",
    "import matplotlib.pyplot as plt\n",
    "import os"
   ]
  },
  {
   "cell_type": "markdown",
   "source": [
    "# C:\\Users\\gulce\\Desktop\\EEE 8TH SEMESTER\\CS 464\\Homeworks\\HW2\\afhq_dog\n",
    "# C:\\Users\\gulce\\Desktop\\EEE 8TH SEMESTER\\CS 464\\Homeworks\\HW2\\afhq_dog_test"
   ],
   "metadata": {
    "collapsed": false
   }
  },
  {
   "cell_type": "code",
   "execution_count": 10,
   "outputs": [],
   "source": [
    "class PCA:\n",
    "    def __init__ (self, numPC):\n",
    "        self.numPC = numPC\n",
    "        self.eigenvalues = None\n",
    "        self.largestEigenValues = None\n",
    "\n",
    "    def getEigenValues (self, X):\n",
    "        normalized = X - X.mean(axis=0, keepdims=True)\n",
    "        covariance = np.cov(normalized, rowvar=False)\n",
    "        self.eigenValues, eigenVectors = np.linalg.eig(covariance)\n",
    "        eigenIndices = np.argsort(-self.eigenValues)\n",
    "        self.largestEigenValues = self.eigenValues[eigenIndices[:self.numPC]]\n",
    "\n",
    "    def getPVE (self):\n",
    "        listPVE = []\n",
    "        for e in self.largestEigenValues:\n",
    "            listPVE.append(e/np.sum(self.eigenValues))\n",
    "        return listPVE"
   ],
   "metadata": {
    "collapsed": false
   }
  },
  {
   "cell_type": "code",
   "execution_count": 11,
   "outputs": [],
   "source": [
    "absolutePath = input('Enter the path location: ')\n",
    "imgCount = 0\n",
    "X = np.empty((len(os.listdir(absolutePath)), 4096, 3))\n",
    "for fileName in os.listdir(absolutePath):\n",
    "    imagePath = os.path.join(absolutePath, fileName)\n",
    "    image = np.array(Image.open(imagePath).resize((64, 64), Image.Resampling.BILINEAR), dtype=int)  # TODO look for warning\n",
    "    X[imgCount] = image.flatten().reshape((4096, 3))\n",
    "    imgCount += 1\n",
    "X0 = X[:, :, 0]  # red\n",
    "X1 = X[:, :, 1]  # green\n",
    "X2 = X[:, :, 2]  # blue"
   ],
   "metadata": {
    "collapsed": false
   }
  },
  {
   "cell_type": "code",
   "execution_count": null,
   "outputs": [],
   "source": [
    "pca = PCA(10)"
   ],
   "metadata": {
    "collapsed": false
   }
  },
  {
   "cell_type": "code",
   "execution_count": 12,
   "outputs": [
    {
     "name": "stdout",
     "output_type": "stream",
     "text": [
      "[0.21506810687313763, 0.1354209590381239, 0.0750408239301227, 0.05172646440945584, 0.04228590064660135, 0.02458042579226803, 0.02177032200245767, 0.019896569510316393, 0.017069749419479516, 0.016558493563630372]\n"
     ]
    }
   ],
   "source": [
    "pca.getEigenValues(X0)\n",
    "listPVE_X0 = pca.getPVE()\n",
    "print(listPVE_X0)"
   ],
   "metadata": {
    "collapsed": false
   }
  },
  {
   "cell_type": "code",
   "execution_count": 13,
   "outputs": [
    {
     "name": "stdout",
     "output_type": "stream",
     "text": [
      "[0.20045373100504213, 0.1376758814315232, 0.07695187885576904, 0.053969649951490825, 0.04291814352919716, 0.026021557702841355, 0.02142609389411918, 0.020812494401400036, 0.01739320386410746, 0.016811114431734355]\n"
     ]
    }
   ],
   "source": [
    "pca.getEigenValues(X1)\n",
    "listPVE_X1 = pca.getPVE()\n",
    "print(listPVE_X1)"
   ],
   "metadata": {
    "collapsed": false
   }
  },
  {
   "cell_type": "code",
   "execution_count": 14,
   "outputs": [
    {
     "name": "stdout",
     "output_type": "stream",
     "text": [
      "[0.22994562131595436, 0.13677010354278882, 0.07033232471231898, 0.05355895002957549, 0.03981729858197311, 0.023730579789657077, 0.02098964613416302, 0.02075654086553709, 0.016680265709240957, 0.016291470910426934]\n"
     ]
    }
   ],
   "source": [
    "pca.getEigenValues(X2)\n",
    "listPVE_X2 = pca.getPVE()\n",
    "print(listPVE_X2)"
   ],
   "metadata": {
    "collapsed": false
   }
  },
  {
   "cell_type": "code",
   "execution_count": null,
   "outputs": [],
   "source": [],
   "metadata": {
    "collapsed": false
   }
  }
 ],
 "metadata": {
  "kernelspec": {
   "display_name": "Python 3",
   "language": "python",
   "name": "python3"
  },
  "language_info": {
   "codemirror_mode": {
    "name": "ipython",
    "version": 2
   },
   "file_extension": ".py",
   "mimetype": "text/x-python",
   "name": "python",
   "nbconvert_exporter": "python",
   "pygments_lexer": "ipython2",
   "version": "2.7.6"
  }
 },
 "nbformat": 4,
 "nbformat_minor": 0
}
