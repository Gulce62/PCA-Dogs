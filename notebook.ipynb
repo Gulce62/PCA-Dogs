{
 "cells": [
  {
   "cell_type": "code",
   "execution_count": 1,
   "metadata": {
    "collapsed": true
   },
   "outputs": [],
   "source": [
    "import os\n",
    "import sys\n",
    "import numpy as np\n",
    "from PIL import Image\n",
    "import matplotlib.pyplot as plt"
   ]
  },
  {
   "cell_type": "code",
   "execution_count": null,
   "outputs": [],
   "source": [
    "#absolutePath = input('Enter the path location: ')\n",
    "absolutePath = r'C:\\Users\\gulce\\Desktop\\EEE 8TH SEMESTER\\CS 464\\Homeworks\\HW2\\afhq_dog'\n",
    "# Check if the OS path of the folder exists\n",
    "try:\n",
    "    X = np.empty((len(os.listdir(absolutePath)), 4096, 3))\n",
    "    print('Folder path is correct!!!')\n",
    "except Exception:\n",
    "    print('Invalid folder path!!!')\n",
    "    sys.exit(1)"
   ],
   "metadata": {
    "collapsed": false
   }
  },
  {
   "cell_type": "code",
   "execution_count": null,
   "outputs": [],
   "source": [
    "imgCount = 0\n",
    "for fileName in os.listdir(absolutePath):  # read each image in the folder and store them into a numpy array\n",
    "    imagePath = os.path.join(absolutePath, fileName)\n",
    "    # Check if the OS path of the images are valid\n",
    "    try:\n",
    "        image = Image.open(imagePath)\n",
    "    except Exception:\n",
    "        print('Invalid image path!!!')\n",
    "        sys.exit(1)\n",
    "    image = np.array(image.resize((64, 64), Image.Resampling.BILINEAR), dtype=int)\n",
    "    X[imgCount] = image.reshape((4096, 3))\n",
    "    imgCount += 1\n",
    "# Split image array into its R, G, and B components\n",
    "X0 = X[:, :, 0]  # red\n",
    "X1 = X[:, :, 1]  # green\n",
    "X2 = X[:, :, 2]  # blue"
   ],
   "metadata": {
    "collapsed": false
   }
  },
  {
   "cell_type": "code",
   "execution_count": null,
   "outputs": [],
   "source": [
    "import numpy as np\n",
    "\n",
    "\n",
    "class PCA:\n",
    "    def __init__(self):\n",
    "        self.numPC = None\n",
    "        self.eigenValues = None\n",
    "        self.eigenVectors = None\n",
    "\n",
    "    def getEigen(self, X):\n",
    "        # Get the sorted (descending order) eigenvalues and eigenvectors from a feature array\n",
    "        normalized = X - X.mean(axis=0, keepdims=True)  # subtract the mean\n",
    "        covariance = np.cov(normalized, rowvar=False)  # find covariance matrix\n",
    "        self.eigenValues, self.eigenVectors = np.linalg.eig(covariance)  # find eigenvalues and eigenvectors of the covariance matrix\n",
    "        eigenIndices = np.argsort(-self.eigenValues)  # find the order of the sorted eigenvalues with their indices\n",
    "        self.eigenVectors = self.eigenVectors.T  # get the transpose of eigenvectors\n",
    "        self.eigenValues = self.eigenValues[eigenIndices]  # sort the eigenvalues in descending order\n",
    "        self.eigenVectors = self.eigenVectors[eigenIndices]  # sort the eigenvectors according to eigenvalues\n",
    "\n",
    "    def getkLargestPCs(self, k):\n",
    "        # Get the first k largest eigenvalues and their eigenvectors\n",
    "        self.numPC = k\n",
    "        largestEigenValues = self.eigenValues[:self.numPC]\n",
    "        largestEigenVectors = self.eigenVectors[:self.numPC]\n",
    "        return largestEigenValues, largestEigenVectors\n",
    "\n",
    "    def getPVE(self, largestEigenValues):\n",
    "        # Get the PVE of the principle components\n",
    "        listPVE = []\n",
    "        for e in largestEigenValues:\n",
    "            listPVE.append(e / np.sum(self.eigenValues))\n",
    "        return listPVE\n",
    "\n",
    "    def getNormalizedPCs(self, largestEigenVectors):\n",
    "        # Get the normalized version of the principal components\n",
    "        X_PCs = np.reshape(largestEigenVectors, (self.numPC, 64, 64))\n",
    "        normalizedX_PCs = (X_PCs - X_PCs.min()) / (X_PCs.max() - X_PCs.min())\n",
    "        return normalizedX_PCs"
   ],
   "metadata": {
    "collapsed": false
   }
  },
  {
   "cell_type": "code",
   "execution_count": null,
   "outputs": [],
   "source": [
    "def plotPVE(listPVE, colorName):\n",
    "    # Plot the PVE vs PC graph\n",
    "    title = 'PVE vs. Principal Component for ' + colorName\n",
    "    plt.title(title)\n",
    "    plt.xlabel('Principal Component')\n",
    "    plt.ylabel('Portion of Variance Explained')\n",
    "    x = np.arange(1, len(listPVE)+1, 1)\n",
    "    plt.plot(x, listPVE, marker='o')\n",
    "    plt.show()"
   ],
   "metadata": {
    "collapsed": false
   }
  },
  {
   "cell_type": "code",
   "execution_count": null,
   "outputs": [],
   "source": [
    "def getKmin(pca):\n",
    "    # Find the minimum number of PCs that are required to obtain at least 70% PVE\n",
    "    k = 1\n",
    "    sumPVE = 0\n",
    "    while sumPVE < 0.70:\n",
    "        eigenValuesL, eigenVectorsL = pca.getkLargestPCs(k)\n",
    "        listPVE = pca.getPVE(eigenValuesL)\n",
    "        sumPVE = np.sum(listPVE)\n",
    "        k += 1\n",
    "    return k"
   ],
   "metadata": {
    "collapsed": false
   }
  },
  {
   "cell_type": "code",
   "execution_count": null,
   "outputs": [],
   "source": [
    "pca_X0 = PCA()  # PCA for red\n",
    "pca_X1 = PCA()  # PCA for green\n",
    "pca_X2 = PCA()  # PCA for blue"
   ],
   "metadata": {
    "collapsed": false
   }
  },
  {
   "cell_type": "code",
   "execution_count": null,
   "outputs": [],
   "source": [
    "pca_X0.getEigen(X0)\n",
    "eigenValuesL_X0, eigenVectorsL_X0 = pca_X0.getkLargestPCs(10)  # get first 10 eigenvalues and eigenvectors for red\n",
    "listPVE_X0 = pca_X0.getPVE(eigenValuesL_X0)  # get the list of first 10 PVE for red\n",
    "print('PVEs of the first 10 PCs for red: ', listPVE_X0)\n",
    "print('Sum of the first 10 PCs for red: ', np.sum(listPVE_X0))\n",
    "plotPVE(listPVE_X0, 'Red')"
   ],
   "metadata": {
    "collapsed": false
   }
  },
  {
   "cell_type": "code",
   "execution_count": null,
   "outputs": [],
   "source": [
    "pca_X1.getEigen(X1)\n",
    "eigenValuesL_X1, eigenVectorsL_X1 = pca_X1.getkLargestPCs(10)  # get 10 eigenvalues and eigenvectors for green\n",
    "listPVE_X1 = pca_X1.getPVE(eigenValuesL_X1)  # get the list of first 10 PVE for green\n",
    "print('PVEs of the first 10 PCs for green: ', listPVE_X1)\n",
    "print('Sum of the first 10 PCs for green: ', np.sum(listPVE_X1))\n",
    "plotPVE(listPVE_X0, 'Green')"
   ],
   "metadata": {
    "collapsed": false
   }
  },
  {
   "cell_type": "code",
   "execution_count": null,
   "outputs": [],
   "source": [
    "pca_X2.getEigen(X2)\n",
    "eigenValuesL_X2, eigenVectorsL_X2 = pca_X2.getkLargestPCs(10)  # get 10 eigenvalues and eigenvectors for blue\n",
    "listPVE_X2 = pca_X2.getPVE(eigenValuesL_X2)  # get the list of first 10 PVE for blue\n",
    "print('PVEs of the first 10 PCs for blue: ', listPVE_X2)\n",
    "print('Sum of the first 10 PCs for blue: ', np.sum(listPVE_X2))\n",
    "plotPVE(listPVE_X0, 'Blue')"
   ],
   "metadata": {
    "collapsed": false
   }
  },
  {
   "cell_type": "code",
   "execution_count": null,
   "outputs": [],
   "source": [
    "normalizedX0_PCs = pca_X0.getNormalizedPCs(eigenVectorsL_X0)\n",
    "normalizedX1_PCs = pca_X1.getNormalizedPCs(eigenVectorsL_X1)\n",
    "normalizedX2_PCs = pca_X2.getNormalizedPCs(eigenVectorsL_X2)\n",
    "normalized_PCs = np.stack((normalizedX0_PCs, normalizedX1_PCs, normalizedX2_PCs), axis=3)"
   ],
   "metadata": {
    "collapsed": false
   }
  },
  {
   "cell_type": "code",
   "execution_count": null,
   "outputs": [],
   "source": [
    "k_X0 = getKmin(pca_X0)\n",
    "print('The minimum number of PCs that are required to obtain at least 70% PVE for red is', k_X0)\n",
    "k_X1 = getKmin(pca_X1)\n",
    "print('The minimum number of PCs that are required to obtain at least 70% PVE for green is', k_X1)\n",
    "k_X2 = getKmin(pca_X2)\n",
    "print('The minimum number of PCs that are required to obtain at least 70% PVE for blue is', k_X2)\n",
    "print('The minimum number of PCs that are required to obtain at least 70% PVE for all channels is',\n",
    "      max(k_X0, k_X1, k_X2))"
   ],
   "metadata": {
    "collapsed": false
   }
  },
  {
   "cell_type": "code",
   "execution_count": null,
   "outputs": [],
   "source": [
    "fig, axs = plt.subplots(2, 5, figsize=(16, 8))\n",
    "for i in range(0, 5):\n",
    "    axs[0, i].title.set_text('PC ' + str(i+1))\n",
    "    axs[0, i].imshow(normalized_PCs[i])\n",
    "for i in range(0, 5):\n",
    "    axs[1, i].title.set_text('PC ' + str(i+6))\n",
    "    axs[1, i].imshow(normalized_PCs[i + 5])\n",
    "plt.show()"
   ],
   "metadata": {
    "collapsed": false
   }
  },
  {
   "cell_type": "code",
   "execution_count": null,
   "outputs": [],
   "source": [
    "def perform(k, originalImg):\n",
    "    # Reconstruct the original image with k principal components\n",
    "\n",
    "    # Find k eigenvalues and eigenvectors for all channels\n",
    "    eigenValuesL_X0, eigenVectorsL_X0 = pca_X0.getkLargestPCs(k)\n",
    "    eigenValuesL_X1, eigenVectorsL_X1 = pca_X1.getkLargestPCs(k)\n",
    "    eigenValuesL_X2, eigenVectorsL_X2 = pca_X2.getkLargestPCs(k)\n",
    "\n",
    "    # Arrange original image for all channels\n",
    "    originalImgX0 = originalImg[:, 0]\n",
    "    originalImgX1 = originalImg[:, 1]\n",
    "    originalImgX2 = originalImg[:, 2]\n",
    "\n",
    "    nOriginalImgX0 = originalImgX0 - originalImgX0.mean(axis=0, keepdims=True)\n",
    "    nOriginalImgX1 = originalImgX1 - originalImgX1.mean(axis=0, keepdims=True)\n",
    "    nOriginalImgX2 = originalImgX2 - originalImgX2.mean(axis=0, keepdims=True)\n",
    "\n",
    "    # Find reconstructed image for all channels\n",
    "    dotProduct_X0 = (np.dot(np.dot(eigenVectorsL_X0, nOriginalImgX0), eigenVectorsL_X0)\n",
    "                     + originalImgX0.mean(axis=0, keepdims=True)).reshape((64, 64))\n",
    "    dotProduct_X1 = (np.dot(np.dot(eigenVectorsL_X1, nOriginalImgX1), eigenVectorsL_X1)\n",
    "                     + originalImgX1.mean(axis=0, keepdims=True)).reshape((64, 64))\n",
    "    dotProduct_X2 = (np.dot(np.dot(eigenVectorsL_X2, nOriginalImgX2), eigenVectorsL_X2)\n",
    "                     + originalImgX2.mean(axis=0, keepdims=True)).reshape((64, 64))\n",
    "\n",
    "    dotProduct = np.stack((dotProduct_X0, dotProduct_X1, dotProduct_X2), axis=2)\n",
    "    return dotProduct"
   ],
   "metadata": {
    "collapsed": false
   }
  },
  {
   "cell_type": "code",
   "execution_count": null,
   "outputs": [],
   "source": [
    "# imgPath = input('Enter the path location of the image: ')\n",
    "imgPath = r'C:\\Users\\gulce\\Desktop\\EEE 8TH SEMESTER\\CS 464\\Homeworks\\HW2\\afhq_dog\\flickr_dog_000002.jpg'\n",
    "# Check if the OS path of the image is valid\n",
    "try:\n",
    "    originalImage = Image.open(imgPath)\n",
    "    print('Image path is correct!!!')\n",
    "except Exception:\n",
    "    print('Invalid image path!!!')\n",
    "    sys.exit(1)\n",
    "# Plot the original image\n",
    "plt.figure()\n",
    "plt.title('Original Image')\n",
    "plt.imshow(originalImage)\n",
    "plt.show()"
   ],
   "metadata": {
    "collapsed": false
   }
  },
  {
   "cell_type": "code",
   "execution_count": null,
   "outputs": [],
   "source": [
    "originalImg = np.array(originalImage.resize((64, 64), Image.Resampling.BILINEAR))\n",
    "# Plot the reshaped original image to 64x64 pixels\n",
    "plt.figure()\n",
    "plt.title('Original Image in 64x64 pixels')\n",
    "plt.imshow(originalImg)\n",
    "plt.show()"
   ],
   "metadata": {
    "collapsed": false
   }
  },
  {
   "cell_type": "code",
   "execution_count": null,
   "outputs": [],
   "source": [
    "originalImg = originalImg.reshape((4096, 3))\n",
    "k_list = [1, 50, 250, 500, 1000, 4096]  # list of the number of principal components"
   ],
   "metadata": {
    "collapsed": false
   }
  },
  {
   "cell_type": "code",
   "execution_count": null,
   "outputs": [],
   "source": [
    "fig, axs = plt.subplots(3, 2, figsize=(8, 16))\n",
    "r = 0\n",
    "c = 0\n",
    "for k in k_list:\n",
    "    reconstructedImage = perform(k, originalImg)  # find the reconstructed image for k principal component\n",
    "    axs[r, c].imshow(reconstructedImage.astype('uint8'))\n",
    "    axs[r, c].title.set_text('Reconstructed Image with ' + str(k) + 'PCs')\n",
    "    r += 1\n",
    "    if r == 3:\n",
    "        r = 0\n",
    "        c = 1\n",
    "plt.show()"
   ],
   "metadata": {
    "collapsed": false
   }
  }
 ],
 "metadata": {
  "kernelspec": {
   "display_name": "Python 3",
   "language": "python",
   "name": "python3"
  },
  "language_info": {
   "codemirror_mode": {
    "name": "ipython",
    "version": 2
   },
   "file_extension": ".py",
   "mimetype": "text/x-python",
   "name": "python",
   "nbconvert_exporter": "python",
   "pygments_lexer": "ipython2",
   "version": "2.7.6"
  }
 },
 "nbformat": 4,
 "nbformat_minor": 0
}
