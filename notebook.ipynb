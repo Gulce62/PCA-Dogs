{
 "cells": [
  {
   "cell_type": "code",
   "execution_count": null,
   "metadata": {
    "collapsed": true
   },
   "outputs": [],
   "source": [
    "from PIL import Image\n",
    "import numpy as np\n",
    "import matplotlib.pyplot as plt\n",
    "import os"
   ]
  },
  {
   "cell_type": "code",
   "execution_count": null,
   "outputs": [],
   "source": [
    "#absolutePath = input('Enter the path location: ')\n",
    "absolutePath = r'C:\\Users\\gulce\\Desktop\\EEE 8TH SEMESTER\\CS 464\\Homeworks\\HW2\\afhq_dog'\n",
    "imgCount = 0\n",
    "X = np.empty((len(os.listdir(absolutePath)), 4096, 3))\n",
    "for fileName in os.listdir(absolutePath):\n",
    "    imagePath = os.path.join(absolutePath, fileName)\n",
    "    image = np.array(Image.open(imagePath).resize((64, 64), Image.Resampling.BILINEAR))\n",
    "    X[imgCount] = image.flatten().reshape((4096, 3))\n",
    "    imgCount += 1\n",
    "X0 = X[:, :, 0]  # red\n",
    "X1 = X[:, :, 1]  # green\n",
    "X2 = X[:, :, 2]  # blue"
   ],
   "metadata": {
    "collapsed": false
   }
  },
  {
   "cell_type": "code",
   "execution_count": null,
   "outputs": [],
   "source": [
    "class PCA:\n",
    "    def __init__ (self, numPC):\n",
    "        self.numPC = numPC\n",
    "        self.eigenValues = None\n",
    "        self.eigenVectors = None\n",
    "\n",
    "    def getEigenValues(self, X):\n",
    "        normalized = X - X.mean(axis=0, keepdims=True)\n",
    "        covariance = np.cov(normalized, rowvar=False)\n",
    "        self.eigenValues, self.eigenVectors = np.linalg.eig(covariance)\n",
    "        eigenIndices = np.argsort(-self.eigenValues)\n",
    "        largestEigenValues = self.eigenValues[eigenIndices][:self.numPC]\n",
    "        self.eigenVectors=self.eigenVectors.T\n",
    "        largestEigenVectors = self.eigenVectors[eigenIndices][:self.numPC]\n",
    "        return largestEigenValues, largestEigenVectors\n",
    "\n",
    "    def getPVE(self, largestEigenValues):\n",
    "        listPVE = []\n",
    "        for e in largestEigenValues:\n",
    "            listPVE.append(e/np.sum(self.eigenValues))\n",
    "        return listPVE"
   ],
   "metadata": {
    "collapsed": false
   }
  },
  {
   "cell_type": "code",
   "execution_count": null,
   "outputs": [],
   "source": [
    "k = 4096\n",
    "pca = PCA(k)"
   ],
   "metadata": {
    "collapsed": false
   }
  },
  {
   "cell_type": "code",
   "execution_count": null,
   "outputs": [],
   "source": [
    "eigenValuesL_X0, eigenVectorsL_X0 = pca.getEigenValues(X0)\n",
    "listPVE_X0 = pca.getPVE(eigenValuesL_X0)\n",
    "print(listPVE_X0)"
   ],
   "metadata": {
    "collapsed": false
   }
  },
  {
   "cell_type": "code",
   "execution_count": null,
   "outputs": [],
   "source": [
    "eigenValuesL_X1, eigenVectorsL_X1 = pca.getEigenValues(X1)\n",
    "listPVE_X1 = pca.getPVE(eigenValuesL_X1)\n",
    "print(listPVE_X1)"
   ],
   "metadata": {
    "collapsed": false
   }
  },
  {
   "cell_type": "code",
   "execution_count": null,
   "outputs": [],
   "source": [
    "eigenValuesL_X2, eigenVectorsL_X2 = pca.getEigenValues(X2)\n",
    "listPVE_X2 = pca.getPVE(eigenValuesL_X2)\n",
    "print(listPVE_X2)"
   ],
   "metadata": {
    "collapsed": false
   }
  },
  {
   "cell_type": "code",
   "execution_count": null,
   "outputs": [],
   "source": [
    "X0_PCs = np.reshape(eigenVectorsL_X0, (k, 64, 64))\n",
    "X1_PCs = np.reshape(eigenVectorsL_X1, (k, 64, 64))\n",
    "X2_PCs = np.reshape(eigenVectorsL_X2, (k, 64, 64))"
   ],
   "metadata": {
    "collapsed": false
   }
  },
  {
   "cell_type": "code",
   "execution_count": null,
   "outputs": [],
   "source": [
    "normalizedX0_PCs = (X0_PCs - X0_PCs.min()) / (X0_PCs.max() - X0_PCs.min())\n",
    "normalizedX1_PCs = (X1_PCs - X1_PCs.min()) / (X1_PCs.max() - X1_PCs.min())\n",
    "normalizedX2_PCs = (X2_PCs - X2_PCs.min()) / (X2_PCs.max() - X2_PCs.min())"
   ],
   "metadata": {
    "collapsed": false
   }
  },
  {
   "cell_type": "code",
   "execution_count": null,
   "outputs": [],
   "source": [
    "normalized_PCs = np.stack((normalizedX0_PCs, normalizedX1_PCs, normalizedX2_PCs), axis=3)\n",
    "print(normalized_PCs.shape)"
   ],
   "metadata": {
    "collapsed": false
   }
  },
  {
   "cell_type": "code",
   "execution_count": null,
   "outputs": [],
   "source": [
    "# TODO title, label, etc.\n",
    "fig, axs = plt.subplots(2, 5)\n",
    "for i in range(0, 5):\n",
    "    axs[0, i].imshow(normalized_PCs[i])\n",
    "for i in range(0, 5):\n",
    "    axs[1, i].imshow(normalized_PCs[i+5])"
   ],
   "metadata": {
    "collapsed": false
   }
  },
  {
   "cell_type": "code",
   "execution_count": null,
   "outputs": [],
   "source": [
    "k_list = [1, 50, 250, 500, 1000, 4096]"
   ],
   "metadata": {
    "collapsed": false
   }
  },
  {
   "cell_type": "code",
   "execution_count": null,
   "outputs": [],
   "source": [
    "originalImagePath = r'C:\\Users\\gulce\\Desktop\\EEE 8TH SEMESTER\\CS 464\\Homeworks\\HW2\\afhq_dog\\flickr_dog_000002.jpg'\n",
    "originalImage = Image.open(originalImagePath)\n",
    "plt.imshow(originalImage)"
   ],
   "metadata": {
    "collapsed": false
   }
  },
  {
   "cell_type": "code",
   "execution_count": null,
   "outputs": [],
   "source": [
    "originalImg = np.array(originalImage.resize((64, 64), Image.Resampling.BILINEAR)).flatten().reshape((4096, 3))\n",
    "\n",
    "a = originalImg[:, 0]\n",
    "b = np.dot(eigenVectorsL_X0, a)\n",
    "#dotProduct_X0 = np.dot(eigenVectorsL_X0.T, b).reshape((64, 64))\n",
    "dotProduct_X0 = (np.dot(eigenVectorsL_X0.T, b) + X0.mean(axis=0, keepdims=True)).reshape((64, 64))\n",
    "\n",
    "a = originalImg[:, 1]\n",
    "b = np.dot(eigenVectorsL_X1, a)\n",
    "#dotProduct_X1 = np.dot(eigenVectorsL_X1.T, b).reshape((64, 64))\n",
    "dotProduct_X1 = (np.dot(eigenVectorsL_X1.T, b) + X1.mean(axis=0, keepdims=True)).reshape((64, 64))\n",
    "\n",
    "a = originalImg[:, 2]\n",
    "b = np.dot(eigenVectorsL_X2, a)\n",
    "#dotProduct_X2 = np.dot(eigenVectorsL_X2.T, b).reshape((64, 64))\n",
    "dotProduct_X2 = (np.dot(eigenVectorsL_X2.T, b) + X2.mean(axis=0, keepdims=True)).reshape((64, 64))\n",
    "\n",
    "dotProduct = np.stack((dotProduct_X0, dotProduct_X1, dotProduct_X2), axis=2)\n",
    "normalizedDP = (dotProduct - dotProduct.min()) / (dotProduct.max() - dotProduct.min())\n",
    "plt.imshow(normalizedDP)"
   ],
   "metadata": {
    "collapsed": false
   }
  },
  {
   "cell_type": "code",
   "execution_count": null,
   "outputs": [],
   "source": [
    "originalImagePath = r'C:\\Users\\gulce\\Desktop\\EEE 8TH SEMESTER\\CS 464\\Homeworks\\HW2\\afhq_dog\\flickr_dog_000002.jpg'\n",
    "originalImage = np.array(Image.open(originalImagePath).resize((64, 64), Image.Resampling.BILINEAR))\n",
    "plt.imshow(originalImage)"
   ],
   "metadata": {
    "collapsed": false
   }
  }
 ],
 "metadata": {
  "kernelspec": {
   "display_name": "Python 3",
   "language": "python",
   "name": "python3"
  },
  "language_info": {
   "codemirror_mode": {
    "name": "ipython",
    "version": 2
   },
   "file_extension": ".py",
   "mimetype": "text/x-python",
   "name": "python",
   "nbconvert_exporter": "python",
   "pygments_lexer": "ipython2",
   "version": "2.7.6"
  }
 },
 "nbformat": 4,
 "nbformat_minor": 0
}
